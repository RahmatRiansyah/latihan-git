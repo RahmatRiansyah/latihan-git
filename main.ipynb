{
 "cells": [
  {
   "cell_type": "code",
   "execution_count": 32,
   "metadata": {},
   "outputs": [
    {
     "name": "stdout",
     "output_type": "stream",
     "text": [
      "salah\n"
     ]
    }
   ],
   "source": [
    "#Aritmatika\n",
    "a = 5\n",
    "b = 6\n",
    "\n",
    "if a > b:\n",
    "    print ( 'benar')\n",
    "else:\n",
    "    print ('salah')"
   ]
  },
  {
   "cell_type": "code",
   "execution_count": 26,
   "metadata": {},
   "outputs": [
    {
     "name": "stdout",
     "output_type": "stream",
     "text": [
      "Hasil dan: 0\n",
      "Hasil atau: 1\n"
     ]
    }
   ],
   "source": [
    "#Fungsi\n",
    "def AND(x, y):\n",
    "    return x & y\n",
    "\n",
    "hasil = AND(0, 3)\n",
    "print(\"Hasil dan:\", hasil)\n",
    "\n",
    "def OR(a, b):\n",
    "    return a | b\n",
    "\n",
    "maka = OR(1, 0)\n",
    "print ('Hasil atau:', maka)"
   ]
  },
  {
   "cell_type": "code",
   "execution_count": 37,
   "metadata": {},
   "outputs": [
    {
     "name": "stdout",
     "output_type": "stream",
     "text": [
      "Faktorial dari 6 adalah 720\n"
     ]
    }
   ],
   "source": [
    "#Faktorial\n",
    "def faktorial(n):\n",
    "    if n == 0 or n == 1:\n",
    "        return 1\n",
    "    else:\n",
    "        return n * faktorial(n - 1)\n",
    "\n",
    "angka = 6\n",
    "print(f\"Faktorial dari {angka} adalah {faktorial(angka)}\")"
   ]
  },
  {
   "cell_type": "code",
   "execution_count": 43,
   "metadata": {},
   "outputs": [
    {
     "name": "stdout",
     "output_type": "stream",
     "text": [
      "I LOVE REYRA\n",
      "I LOVE REYRA\n",
      "I LOVE REYRA\n",
      "I LOVE REYRA\n",
      "I LOVE REYRA\n",
      "I LOVE REYRA\n",
      "I LOVE REYRA\n",
      "I LOVE REYRA\n",
      "I LOVE REYRA\n",
      "I LOVE REYRA\n",
      "I LOVE REYRA\n",
      "I LOVE REYRA\n",
      "I LOVE REYRA\n",
      "I LOVE REYRA\n",
      "I LOVE REYRA\n",
      "I LOVE REYRA\n",
      "I LOVE REYRA\n",
      "I LOVE REYRA\n",
      "I LOVE REYRA\n",
      "I LOVE REYRA\n",
      "I LOVE REYRA\n",
      "I LOVE REYRA\n",
      "I LOVE REYRA\n",
      "I LOVE REYRA\n",
      "I LOVE REYRA\n",
      "I LOVE REYRA\n",
      "I LOVE REYRA\n",
      "I LOVE REYRA\n",
      "I LOVE REYRA\n",
      "I LOVE REYRA\n",
      "I LOVE REYRA\n",
      "I LOVE REYRA\n",
      "I LOVE REYRA\n",
      "I LOVE REYRA\n",
      "I LOVE REYRA\n",
      "I LOVE REYRA\n",
      "I LOVE REYRA\n",
      "I LOVE REYRA\n",
      "I LOVE REYRA\n",
      "I LOVE REYRA\n",
      "I LOVE REYRA\n",
      "I LOVE REYRA\n",
      "I LOVE REYRA\n",
      "I LOVE REYRA\n",
      "I LOVE REYRA\n",
      "I LOVE REYRA\n",
      "I LOVE REYRA\n",
      "I LOVE REYRA\n",
      "I LOVE REYRA\n",
      "I LOVE REYRA\n",
      "I LOVE REYRA\n",
      "I LOVE REYRA\n",
      "I LOVE REYRA\n",
      "I LOVE REYRA\n",
      "I LOVE REYRA\n",
      "I LOVE REYRA\n",
      "I LOVE REYRA\n",
      "I LOVE REYRA\n",
      "I LOVE REYRA\n",
      "I LOVE REYRA\n",
      "I LOVE REYRA\n",
      "I LOVE REYRA\n",
      "I LOVE REYRA\n",
      "I LOVE REYRA\n",
      "I LOVE REYRA\n",
      "I LOVE REYRA\n",
      "I LOVE REYRA\n",
      "I LOVE REYRA\n",
      "I LOVE REYRA\n",
      "I LOVE REYRA\n",
      "I LOVE REYRA\n",
      "I LOVE REYRA\n",
      "I LOVE REYRA\n",
      "I LOVE REYRA\n",
      "I LOVE REYRA\n",
      "I LOVE REYRA\n",
      "I LOVE REYRA\n",
      "I LOVE REYRA\n",
      "I LOVE REYRA\n",
      "I LOVE REYRA\n",
      "I LOVE REYRA\n",
      "I LOVE REYRA\n",
      "I LOVE REYRA\n",
      "I LOVE REYRA\n",
      "I LOVE REYRA\n",
      "I LOVE REYRA\n",
      "I LOVE REYRA\n",
      "I LOVE REYRA\n",
      "I LOVE REYRA\n",
      "I LOVE REYRA\n",
      "I LOVE REYRA\n",
      "I LOVE REYRA\n",
      "I LOVE REYRA\n",
      "I LOVE REYRA\n",
      "I LOVE REYRA\n",
      "I LOVE REYRA\n",
      "I LOVE REYRA\n",
      "I LOVE REYRA\n",
      "I LOVE REYRA\n",
      "I LOVE REYRA\n"
     ]
    }
   ],
   "source": [
    "#Pengulangan atau LOOP\n",
    "for i in range(1, 101):\n",
    "    print( 'I LOVE REYRA')"
   ]
  },
  {
   "cell_type": "code",
   "execution_count": 48,
   "metadata": {},
   "outputs": [
    {
     "name": "stdout",
     "output_type": "stream",
     "text": [
      "Angka genap dari 1 hingga 20: [2, 4, 6, 8, 10, 12, 14, 16, 18, 20]\n",
      "Angka ganjil dari 1 sampai 40: [1, 3, 5, 7, 9, 11, 13, 15, 17, 19, 21, 23, 25, 27, 29, 31, 33, 35, 37, 39]\n"
     ]
    }
   ],
   "source": [
    "#Menggunakan List\n",
    "genap = [i for i in range(1, 21) if i % 2 == 0]\n",
    "print(\"Angka genap dari 1 hingga 20:\", genap)\n",
    "\n",
    "ganjil = [a for a in range(1,41) if a % 2 == 1]\n",
    "print('Angka ganjil dari 1 sampai 40:', ganjil)"
   ]
  },
  {
   "cell_type": "code",
   "execution_count": 54,
   "metadata": {},
   "outputs": [
    {
     "name": "stdout",
     "output_type": "stream",
     "text": [
      "79 adalah bilangan prima: True\n"
     ]
    }
   ],
   "source": [
    "#Fungsi untuk memeriksa bilangan prima\n",
    "def is_prima(n):\n",
    "    if n <= 1:\n",
    "        return False\n",
    "    for i in range(2, int(n**0.5) + 1):\n",
    "        if n % i == 0:\n",
    "            return False\n",
    "    return True\n",
    "\n",
    "angka = 79\n",
    "print(f\"{angka} adalah bilangan prima: {is_prima(angka)}\")"
   ]
  },
  {
   "cell_type": "code",
   "execution_count": 55,
   "metadata": {},
   "outputs": [
    {
     "name": "stdout",
     "output_type": "stream",
     "text": [
      "Isi file: Hello, ini adalah contoh file.\n",
      "\n"
     ]
    }
   ],
   "source": [
    "#menulis ke file\n",
    "with open('contoh.txt', 'w') as f:\n",
    "    f.write(\"Hello, ini adalah contoh file.\\n\")\n",
    "\n",
    "# Membaca dari file\n",
    "with open('contoh.txt', 'r') as f:\n",
    "    isi = f.read()\n",
    "    print(\"Isi file:\", isi)"
   ]
  },
  {
   "cell_type": "code",
   "execution_count": 56,
   "metadata": {},
   "outputs": [
    {
     "name": "stdout",
     "output_type": "stream",
     "text": [
      "Hasil Penjumlahan Matriks:\n",
      "[8, 10, 12]\n",
      "[14, 16, 18]\n"
     ]
    }
   ],
   "source": [
    "#Penjumlahan Matriks\n",
    "def penjumlahan_matriks(matriks_a, matriks_b):\n",
    "    hasil = []\n",
    "    for i in range(len(matriks_a)):\n",
    "        baris = []\n",
    "        for j in range(len(matriks_a[0])):\n",
    "            baris.append(matriks_a[i][j] + matriks_b[i][j])\n",
    "        hasil.append(baris)\n",
    "    return hasil\n",
    "\n",
    "matriks_a = [[1, 2, 3], [4, 5, 6]]\n",
    "matriks_b = [[7, 8, 9], [10, 11, 12]]\n",
    "\n",
    "hasil_penjumlahan = penjumlahan_matriks(matriks_a, matriks_b)\n",
    "print(\"Hasil Penjumlahan Matriks:\")\n",
    "for baris in hasil_penjumlahan:\n",
    "    print(baris)"
   ]
  },
  {
   "cell_type": "code",
   "execution_count": 57,
   "metadata": {},
   "outputs": [
    {
     "name": "stdout",
     "output_type": "stream",
     "text": [
      "Hasil Perkalian Matriks:\n",
      "[58, 64]\n",
      "[139, 154]\n"
     ]
    }
   ],
   "source": [
    "#Perkalian Matriks\n",
    "def perkalian_matriks(matriks_a, matriks_b):\n",
    "    hasil = [[0 for _ in range(len(matriks_b[0]))] for _ in range(len(matriks_a))]\n",
    "    for i in range(len(matriks_a)):\n",
    "        for j in range(len(matriks_b[0])):\n",
    "            for k in range(len(matriks_b)):\n",
    "                hasil[i][j] += matriks_a[i][k] * matriks_b[k][j]\n",
    "    return hasil\n",
    "\n",
    "matriks_a = [[1, 2, 3], [4, 5, 6]]\n",
    "matriks_b = [[7, 8], [9, 10], [11, 12]]\n",
    "\n",
    "hasil_perkalian = perkalian_matriks(matriks_a, matriks_b)\n",
    "print(\"Hasil Perkalian Matriks:\")\n",
    "for baris in hasil_perkalian:\n",
    "    print(baris)"
   ]
  },
  {
   "cell_type": "code",
   "execution_count": 58,
   "metadata": {},
   "outputs": [
    {
     "name": "stdout",
     "output_type": "stream",
     "text": [
      "Hasil Transposisi Matriks:\n",
      "[1, 4]\n",
      "[2, 5]\n",
      "[3, 6]\n"
     ]
    }
   ],
   "source": [
    "#Transposisi Matriks\n",
    "def transposisi_matriks(matriks):\n",
    "    hasil = []\n",
    "    for j in range(len(matriks[0])):\n",
    "        baris = []\n",
    "        for i in range(len(matriks)):\n",
    "            baris.append(matriks[i][j])\n",
    "        hasil.append(baris)\n",
    "    return hasil\n",
    "\n",
    "matriks = [[1, 2, 3], [4, 5, 6]]\n",
    "hasil_transposisi = transposisi_matriks(matriks)\n",
    "print(\"Hasil Transposisi Matriks:\")\n",
    "for baris in hasil_transposisi:\n",
    "    print(baris)"
   ]
  }
 ],
 "metadata": {
  "kernelspec": {
   "display_name": "Python 3",
   "language": "python",
   "name": "python3"
  },
  "language_info": {
   "codemirror_mode": {
    "name": "ipython",
    "version": 3
   },
   "file_extension": ".py",
   "mimetype": "text/x-python",
   "name": "python",
   "nbconvert_exporter": "python",
   "pygments_lexer": "ipython3",
   "version": "3.12.4"
  }
 },
 "nbformat": 4,
 "nbformat_minor": 2
}
